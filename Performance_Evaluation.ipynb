{
  "nbformat": 4,
  "nbformat_minor": 0,
  "metadata": {
    "colab": {
      "name": "Performance_Evaluation.ipynb",
      "provenance": [],
      "collapsed_sections": [],
      "include_colab_link": true
    },
    "kernelspec": {
      "name": "python3",
      "display_name": "Python 3"
    },
    "accelerator": "GPU"
  },
  "cells": [
    {
      "cell_type": "markdown",
      "metadata": {
        "id": "view-in-github",
        "colab_type": "text"
      },
      "source": [
        "<a href=\"https://colab.research.google.com/github/MTHNTS008/EEE4022S_FINAL_PROJECT_2019/blob/master/Performance_Evaluation.ipynb\" target=\"_parent\"><img src=\"https://colab.research.google.com/assets/colab-badge.svg\" alt=\"Open In Colab\"/></a>"
      ]
    },
    {
      "cell_type": "code",
      "metadata": {
        "id": "-AiIV5Hiq_Fz",
        "colab_type": "code",
        "colab": {}
      },
      "source": [
        "import numpy as np\n",
        "import pandas as pd\n",
        "\n",
        "import matplotlib.pyplot as plt\n",
        "%matplotlib inline\n",
        "\n",
        "import seaborn as sns\n",
        "\n",
        "from IPython.core.pylabtools import figsize\n",
        "\n",
        "figsize(10, 8)"
      ],
      "execution_count": 0,
      "outputs": []
    },
    {
      "cell_type": "markdown",
      "metadata": {
        "id": "HEFNz3DpIn3_",
        "colab_type": "text"
      },
      "source": [
        "###Confusion Matrix Numbers"
      ]
    },
    {
      "cell_type": "code",
      "metadata": {
        "id": "Gs19eHeXIiOm",
        "colab_type": "code",
        "colab": {}
      },
      "source": [
        "\n",
        "results = pd.DataFrame({'threshold': [0.0, 0.1, 0.2, 0.3, 0.4, 0.5, 0.6, 0.7, 0.8, 0.9, 1.0],\n",
        "                        'tp': [10, 8, 7, 6,  6,  6, 2,  1,  1,  1, 0],\n",
        "                        'fp': [10, 8, 7, 6,  4,  4, 2,  1,  1,  1,  0],\n",
        "                        'tn': [0,  2, 3, 4,  5,  5, 8,  9,  9,  9, 10],\n",
        "                        'fn': [0,  2, 3, 4,  5,  5, 8,  9,  9,  9, 10]\n",
        "                       })"
      ],
      "execution_count": 0,
      "outputs": []
    },
    {
      "cell_type": "markdown",
      "metadata": {
        "id": "GkHfhIUOIvbX",
        "colab_type": "text"
      },
      "source": [
        "###Calculate Precision, Recall, F1, TPR, FPR"
      ]
    },
    {
      "cell_type": "code",
      "metadata": {
        "id": "-cuSsCb7Iuiz",
        "colab_type": "code",
        "colab": {}
      },
      "source": [
        "def calculate_metrics(results):\n",
        "    roc = pd.DataFrame(index = results['threshold'], columns=['recall', 'precision', 'f1', 'tpr', 'fpr'])\n",
        "    \n",
        "    for i in results.iterrows():\n",
        "        t, tp, fp, tn,fn = i[1]\n",
        "        sum_ = (tp + fp + tn + fn)\n",
        "        print('sum',fn)\n",
        "        assert tp + fp + tn + fn == 20, 'Images must add up to 20'\n",
        "        \n",
        "        recall = tp / (tp + fn)\n",
        "        \n",
        "        if tp == fp == 0:\n",
        "            precision = 0\n",
        "            true_positive_rate = 0\n",
        "        \n",
        "        else:\n",
        "            precision = tp / (tp + fp)\n",
        "            true_positive_rate = tp / (tp + fn)\n",
        "            \n",
        "        if precision == recall == 0:\n",
        "            f1 = 0\n",
        "        else:\n",
        "            f1 = 2 * (precision * recall) / (precision + recall)\n",
        "        \n",
        "        \n",
        "        false_positive_rate = fp / (fp + tn)\n",
        "        \n",
        "        roc.ix[t, 'recall'] = recall\n",
        "        roc.ix[t, 'precision'] = precision\n",
        "        roc.ix[t, 'f1'] = f1\n",
        "        roc.ix[t, 'tpr'] = true_positive_rate\n",
        "        roc.ix[t, 'fpr'] = false_positive_rate\n",
        "    \n",
        "    return roc"
      ],
      "execution_count": 0,
      "outputs": []
    },
    {
      "cell_type": "code",
      "metadata": {
        "id": "X49GeTCMI5Fz",
        "colab_type": "code",
        "colab": {
          "base_uri": "https://localhost:8080/",
          "height": 1000
        },
        "outputId": "8d2ec422-5553-4f03-a793-9956d889e90a"
      },
      "source": [
        "roc = calculate_metrics(results)\n",
        "roc.reset_index()"
      ],
      "execution_count": 95,
      "outputs": [
        {
          "output_type": "stream",
          "text": [
            "sum 0.0\n",
            "sum 2.0\n",
            "sum 3.0\n",
            "sum 4.0\n",
            "sum 5.0\n",
            "sum 5.0\n",
            "sum 8.0\n",
            "sum 9.0\n",
            "sum 9.0\n",
            "sum 9.0\n",
            "sum 10.0\n"
          ],
          "name": "stdout"
        },
        {
          "output_type": "stream",
          "text": [
            "/usr/local/lib/python3.6/dist-packages/ipykernel_launcher.py:28: DeprecationWarning: \n",
            ".ix is deprecated. Please use\n",
            ".loc for label based indexing or\n",
            ".iloc for positional indexing\n",
            "\n",
            "See the documentation here:\n",
            "http://pandas.pydata.org/pandas-docs/stable/indexing.html#ix-indexer-is-deprecated\n",
            "/usr/local/lib/python3.6/dist-packages/ipykernel_launcher.py:29: DeprecationWarning: \n",
            ".ix is deprecated. Please use\n",
            ".loc for label based indexing or\n",
            ".iloc for positional indexing\n",
            "\n",
            "See the documentation here:\n",
            "http://pandas.pydata.org/pandas-docs/stable/indexing.html#ix-indexer-is-deprecated\n",
            "/usr/local/lib/python3.6/dist-packages/ipykernel_launcher.py:30: DeprecationWarning: \n",
            ".ix is deprecated. Please use\n",
            ".loc for label based indexing or\n",
            ".iloc for positional indexing\n",
            "\n",
            "See the documentation here:\n",
            "http://pandas.pydata.org/pandas-docs/stable/indexing.html#ix-indexer-is-deprecated\n",
            "/usr/local/lib/python3.6/dist-packages/ipykernel_launcher.py:31: DeprecationWarning: \n",
            ".ix is deprecated. Please use\n",
            ".loc for label based indexing or\n",
            ".iloc for positional indexing\n",
            "\n",
            "See the documentation here:\n",
            "http://pandas.pydata.org/pandas-docs/stable/indexing.html#ix-indexer-is-deprecated\n",
            "/usr/local/lib/python3.6/dist-packages/ipykernel_launcher.py:32: DeprecationWarning: \n",
            ".ix is deprecated. Please use\n",
            ".loc for label based indexing or\n",
            ".iloc for positional indexing\n",
            "\n",
            "See the documentation here:\n",
            "http://pandas.pydata.org/pandas-docs/stable/indexing.html#ix-indexer-is-deprecated\n"
          ],
          "name": "stderr"
        },
        {
          "output_type": "execute_result",
          "data": {
            "text/html": [
              "<div>\n",
              "<style scoped>\n",
              "    .dataframe tbody tr th:only-of-type {\n",
              "        vertical-align: middle;\n",
              "    }\n",
              "\n",
              "    .dataframe tbody tr th {\n",
              "        vertical-align: top;\n",
              "    }\n",
              "\n",
              "    .dataframe thead th {\n",
              "        text-align: right;\n",
              "    }\n",
              "</style>\n",
              "<table border=\"1\" class=\"dataframe\">\n",
              "  <thead>\n",
              "    <tr style=\"text-align: right;\">\n",
              "      <th></th>\n",
              "      <th>threshold</th>\n",
              "      <th>recall</th>\n",
              "      <th>precision</th>\n",
              "      <th>f1</th>\n",
              "      <th>tpr</th>\n",
              "      <th>fpr</th>\n",
              "    </tr>\n",
              "  </thead>\n",
              "  <tbody>\n",
              "    <tr>\n",
              "      <th>0</th>\n",
              "      <td>0.0</td>\n",
              "      <td>1</td>\n",
              "      <td>0.5</td>\n",
              "      <td>0.666667</td>\n",
              "      <td>1</td>\n",
              "      <td>1</td>\n",
              "    </tr>\n",
              "    <tr>\n",
              "      <th>1</th>\n",
              "      <td>0.1</td>\n",
              "      <td>0.8</td>\n",
              "      <td>0.5</td>\n",
              "      <td>0.615385</td>\n",
              "      <td>0.8</td>\n",
              "      <td>0.8</td>\n",
              "    </tr>\n",
              "    <tr>\n",
              "      <th>2</th>\n",
              "      <td>0.2</td>\n",
              "      <td>0.7</td>\n",
              "      <td>0.5</td>\n",
              "      <td>0.583333</td>\n",
              "      <td>0.7</td>\n",
              "      <td>0.7</td>\n",
              "    </tr>\n",
              "    <tr>\n",
              "      <th>3</th>\n",
              "      <td>0.3</td>\n",
              "      <td>0.6</td>\n",
              "      <td>0.5</td>\n",
              "      <td>0.545455</td>\n",
              "      <td>0.6</td>\n",
              "      <td>0.6</td>\n",
              "    </tr>\n",
              "    <tr>\n",
              "      <th>4</th>\n",
              "      <td>0.4</td>\n",
              "      <td>0.545455</td>\n",
              "      <td>0.6</td>\n",
              "      <td>0.571429</td>\n",
              "      <td>0.545455</td>\n",
              "      <td>0.444444</td>\n",
              "    </tr>\n",
              "    <tr>\n",
              "      <th>5</th>\n",
              "      <td>0.5</td>\n",
              "      <td>0.545455</td>\n",
              "      <td>0.6</td>\n",
              "      <td>0.571429</td>\n",
              "      <td>0.545455</td>\n",
              "      <td>0.444444</td>\n",
              "    </tr>\n",
              "    <tr>\n",
              "      <th>6</th>\n",
              "      <td>0.6</td>\n",
              "      <td>0.2</td>\n",
              "      <td>0.5</td>\n",
              "      <td>0.285714</td>\n",
              "      <td>0.2</td>\n",
              "      <td>0.2</td>\n",
              "    </tr>\n",
              "    <tr>\n",
              "      <th>7</th>\n",
              "      <td>0.7</td>\n",
              "      <td>0.1</td>\n",
              "      <td>0.5</td>\n",
              "      <td>0.166667</td>\n",
              "      <td>0.1</td>\n",
              "      <td>0.1</td>\n",
              "    </tr>\n",
              "    <tr>\n",
              "      <th>8</th>\n",
              "      <td>0.8</td>\n",
              "      <td>0.1</td>\n",
              "      <td>0.5</td>\n",
              "      <td>0.166667</td>\n",
              "      <td>0.1</td>\n",
              "      <td>0.1</td>\n",
              "    </tr>\n",
              "    <tr>\n",
              "      <th>9</th>\n",
              "      <td>0.9</td>\n",
              "      <td>0.1</td>\n",
              "      <td>0.5</td>\n",
              "      <td>0.166667</td>\n",
              "      <td>0.1</td>\n",
              "      <td>0.1</td>\n",
              "    </tr>\n",
              "    <tr>\n",
              "      <th>10</th>\n",
              "      <td>1.0</td>\n",
              "      <td>0</td>\n",
              "      <td>0</td>\n",
              "      <td>0</td>\n",
              "      <td>0</td>\n",
              "      <td>0</td>\n",
              "    </tr>\n",
              "  </tbody>\n",
              "</table>\n",
              "</div>"
            ],
            "text/plain": [
              "    threshold    recall precision        f1       tpr       fpr\n",
              "0         0.0         1       0.5  0.666667         1         1\n",
              "1         0.1       0.8       0.5  0.615385       0.8       0.8\n",
              "2         0.2       0.7       0.5  0.583333       0.7       0.7\n",
              "3         0.3       0.6       0.5  0.545455       0.6       0.6\n",
              "4         0.4  0.545455       0.6  0.571429  0.545455  0.444444\n",
              "5         0.5  0.545455       0.6  0.571429  0.545455  0.444444\n",
              "6         0.6       0.2       0.5  0.285714       0.2       0.2\n",
              "7         0.7       0.1       0.5  0.166667       0.1       0.1\n",
              "8         0.8       0.1       0.5  0.166667       0.1       0.1\n",
              "9         0.9       0.1       0.5  0.166667       0.1       0.1\n",
              "10        1.0         0         0         0         0         0"
            ]
          },
          "metadata": {
            "tags": []
          },
          "execution_count": 95
        }
      ]
    },
    {
      "cell_type": "markdown",
      "metadata": {
        "id": "UJ-GdD-II5sw",
        "colab_type": "text"
      },
      "source": [
        "###Receiver Operating Characteristic Curve"
      ]
    },
    {
      "cell_type": "code",
      "metadata": {
        "id": "3NQksKNuQKSB",
        "colab_type": "code",
        "colab": {
          "base_uri": "https://localhost:8080/",
          "height": 543
        },
        "outputId": "97557eca-b936-4ba1-b794-3b076f42dfe0"
      },
      "source": [
        "figsize(10, 8)\n",
        "plt.style.use('seaborn-dark-palette')\n",
        "thresholds = [str(t) for t in results['threshold']]\n",
        "plt.plot(roc['fpr'], roc['tpr'], 'bo-', label = 'model');\n",
        "plt.plot(list(np.linspace(0, 1, num = 10)), list(np.linspace(0, 1, num = 10)), 'ro--', label = 'naive matcher');\n",
        "for x, y, s in zip(roc['fpr'], roc['tpr'], thresholds):\n",
        "    plt.text(x - 0.04,y + 0.02, s, fontdict={'size': 14});\n",
        "\n",
        "plt.legend(prop={'size':14})\n",
        "plt.ylabel('True Positive Rate', size = 16); plt.xlabel('False Positive Rate', size = 16);\n",
        "plt.title('Receiver Operating Characteristic Curve', size = 20);"
      ],
      "execution_count": 93,
      "outputs": [
        {
          "output_type": "display_data",
          "data": {
            "image/png": "[encoded data removed]",
            "text/plain": [
              "<Figure size 720x576 with 1 Axes>"
            ]
          },
          "metadata": {
            "tags": []
          }
        }
      ]
    },
    {
      "cell_type": "code",
      "metadata": {
        "id": "EP0tYDxrQNyj",
        "colab_type": "code",
        "colab": {}
      },
      "source": [
        ""
      ],
      "execution_count": 0,
      "outputs": []
    }
  ]
}