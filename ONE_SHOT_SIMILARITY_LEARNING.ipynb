{
  "nbformat": 4,
  "nbformat_minor": 0,
  "metadata": {
    "colab": {
      "name": "Copy of ONE SHOT SIMILARITY LEARNING.ipynb",
      "provenance": [],
      "collapsed_sections": [
        "JcQMWEg0VsIR",
        "bWi_kwEgXvt3",
        "c9aRNwPY0YyT",
        "ebzu2V9wcwfI",
        "hqGqvOdHLRk6",
        "1GKyd-Nve1pv"
      ],
      "toc_visible": true,
      "include_colab_link": true
    },
    "kernelspec": {
      "name": "python3",
      "display_name": "Python 3"
    },
    "accelerator": "GPU"
  },
  "cells": [
    {
      "cell_type": "markdown",
      "metadata": {
        "id": "view-in-github",
        "colab_type": "text"
      },
      "source": [
        "<a href=\"https://colab.research.google.com/github/MTHNTS008/EEE4022S_FINAL_PROJECT_2019/blob/master/ONE_SHOT_SIMILARITY_LEARNING.ipynb\" target=\"_parent\"><img src=\"https://colab.research.google.com/assets/colab-badge.svg\" alt=\"Open In Colab\"/></a>"
      ]
    },
    {
      "cell_type": "markdown",
      "metadata": {
        "id": "JcQMWEg0VsIR",
        "colab_type": "text"
      },
      "source": [
        "###INSTALLATIONS"
      ]
    },
    {
      "cell_type": "code",
      "metadata": {
        "id": "GnhGbxKFcOob",
        "colab_type": "code",
        "outputId": "838ba90f-0af0-4589-e3e2-1cdc07d44956",
        "colab": {
          "base_uri": "https://localhost:8080/",
          "height": 306
        }
      },
      "source": [
        "!pip install Pillow==4.0.0\n",
        "#!pip install PIL\n",
        "#!pip install image"
      ],
      "execution_count": 0,
      "outputs": [
        {
          "output_type": "stream",
          "text": [
            "Collecting Pillow==4.0.0\n",
            "\u001b[?25l  Downloading https://files.pythonhosted.org/packages/37/e8/b3fbf87b0188d22246678f8cd61e23e31caa1769ebc06f1664e2e5fe8a17/Pillow-4.0.0-cp36-cp36m-manylinux1_x86_64.whl (5.6MB)\n",
            "\u001b[K     |████████████████████████████████| 5.6MB 2.8MB/s \n",
            "\u001b[?25hRequirement already satisfied: olefile in /usr/local/lib/python3.6/dist-packages (from Pillow==4.0.0) (0.46)\n",
            "\u001b[31mERROR: torchvision 0.4.0 has requirement pillow>=4.1.1, but you'll have pillow 4.0.0 which is incompatible.\u001b[0m\n",
            "\u001b[31mERROR: scikit-image 0.15.0 has requirement pillow>=4.3.0, but you'll have pillow 4.0.0 which is incompatible.\u001b[0m\n",
            "\u001b[31mERROR: albumentations 0.1.12 has requirement imgaug<0.2.7,>=0.2.5, but you'll have imgaug 0.2.9 which is incompatible.\u001b[0m\n",
            "Installing collected packages: Pillow\n",
            "  Found existing installation: Pillow 4.3.0\n",
            "    Uninstalling Pillow-4.3.0:\n",
            "      Successfully uninstalled Pillow-4.3.0\n",
            "Successfully installed Pillow-4.0.0\n"
          ],
          "name": "stdout"
        },
        {
          "output_type": "display_data",
          "data": {
            "application/vnd.colab-display-data+json": {
              "pip_warning": {
                "packages": [
                  "PIL"
                ]
              }
            }
          },
          "metadata": {
            "tags": []
          }
        }
      ]
    },
    {
      "cell_type": "code",
      "metadata": {
        "id": "2AQ4iAzHu7XF",
        "colab_type": "code",
        "outputId": "0ddee099-a3b2-465a-8a4d-8e9f9892fa0d",
        "colab": {
          "base_uri": "https://localhost:8080/",
          "height": 204
        }
      },
      "source": [
        "'''!pip install pillow\n",
        "!sudo pip install Pillow==2.6.0\n",
        "'''\n",
        "!pip install scipy==1.2.1\n"
      ],
      "execution_count": 0,
      "outputs": [
        {
          "output_type": "stream",
          "text": [
            "Collecting scipy==1.2.1\n",
            "\u001b[?25l  Downloading https://files.pythonhosted.org/packages/7f/5f/c48860704092933bf1c4c1574a8de1ffd16bf4fde8bab190d747598844b2/scipy-1.2.1-cp36-cp36m-manylinux1_x86_64.whl (24.8MB)\n",
            "\u001b[K     |████████████████████████████████| 24.8MB 1.6MB/s \n",
            "\u001b[?25hRequirement already satisfied: numpy>=1.8.2 in /usr/local/lib/python3.6/dist-packages (from scipy==1.2.1) (1.16.5)\n",
            "\u001b[31mERROR: scikit-image 0.15.0 has requirement pillow>=4.3.0, but you'll have pillow 4.0.0 which is incompatible.\u001b[0m\n",
            "\u001b[31mERROR: albumentations 0.1.12 has requirement imgaug<0.2.7,>=0.2.5, but you'll have imgaug 0.2.9 which is incompatible.\u001b[0m\n",
            "Installing collected packages: scipy\n",
            "  Found existing installation: scipy 1.3.1\n",
            "    Uninstalling scipy-1.3.1:\n",
            "      Successfully uninstalled scipy-1.3.1\n",
            "Successfully installed scipy-1.2.1\n"
          ],
          "name": "stdout"
        }
      ]
    },
    {
      "cell_type": "code",
      "metadata": {
        "id": "h-Go9QkgvBck",
        "colab_type": "code",
        "colab": {}
      },
      "source": [
        "#!ls\n",
        "#!rm -r 'images_background_iv_2'\n",
        "#!rm -r 'images_evaluation_2'\n",
        "\n",
        "!rm -r 'vis'"
      ],
      "execution_count": 0,
      "outputs": []
    },
    {
      "cell_type": "markdown",
      "metadata": {
        "id": "HcDHHupbvGgK",
        "colab_type": "text"
      },
      "source": [
        "###GETTING LOCAL FILES"
      ]
    },
    {
      "cell_type": "code",
      "metadata": {
        "id": "rdmht3SgvJVb",
        "colab_type": "code",
        "colab": {}
      },
      "source": [
        "from zipfile import ZipFile\n",
        "#file_name = \"validation.zip\"\n",
        "file_name = \"densefuse_gray.zip\"\n",
        "file_name = \"data.zip\"\n",
        "#file_name = \"Model.zip\"\n",
        "#file_name = \"IV_images Many.zip\"\n",
        "#file_name = \"powerline ir and visible.zip\"\n",
        "#file_name = \"\\checkpoints.zip\"\n",
        "\n",
        "file_name = \"images_background_iv_2.zip\"\n",
        "#file_name = \"images_evaluation_2.zip\"\n",
        "\n",
        "#file_name = \"images_evaluation_data.zip\"\n",
        "\n",
        "file_name = \"VIS.zip\"\n",
        "#file_name = \"NIR.zip\"\n",
        "\n",
        "\n",
        "#file_name = \"vis.zip\"\n",
        "#file_name = \"nir.zip\"\n",
        "#file_name = \"New folder.zip\"\n",
        "\n",
        "with ZipFile (file_name, 'r') as zip:\n",
        "  zip.extractall()\n",
        "  \n"
      ],
      "execution_count": 0,
      "outputs": []
    },
    {
      "cell_type": "code",
      "metadata": {
        "id": "qdTMWLvCw0Ea",
        "colab_type": "code",
        "colab": {}
      },
      "source": [
        "!zip -r /content /content/Folder_To_Zip"
      ],
      "execution_count": 0,
      "outputs": []
    },
    {
      "cell_type": "code",
      "metadata": {
        "id": "bwZJWjXG1QE1",
        "colab_type": "code",
        "colab": {}
      },
      "source": [
        "from google.colab import auth\n",
        "from googleapiclient.http import MediaFileUpload\n",
        "from googleapiclient.discovery import build\n",
        "\n",
        "auth.authenticate_user()\n"
      ],
      "execution_count": 0,
      "outputs": []
    },
    {
      "cell_type": "code",
      "metadata": {
        "id": "RUozuxWN2js3",
        "colab_type": "code",
        "colab": {}
      },
      "source": [
        "drive_service = build('drive', 'v3')\n",
        "def save_file_to_drive(name, path):\n",
        "    file_metadata = {'name': name,'mimeType': 'application/octet-stream'}\n",
        "\n",
        "    media = MediaFileUpload(path, mimetype='application/octet-stream',resumable=True)\n",
        "\n",
        "    created = drive_service.files().create(body=file_metadata,\n",
        "                                   media_body=media,\n",
        "                                   fields='id').execute()\n",
        "\n",
        "    print('File ID: {}'.format(created.get('id')))\n",
        "\n",
        "    return created"
      ],
      "execution_count": 0,
      "outputs": []
    },
    {
      "cell_type": "code",
      "metadata": {
        "id": "ByvWmLzk3H2x",
        "colab_type": "code",
        "colab": {}
      },
      "source": [
        "save_file_to_drive('Weights', '/content/weights.1.h5')"
      ],
      "execution_count": 0,
      "outputs": []
    },
    {
      "cell_type": "code",
      "metadata": {
        "id": "d7KpIVN63r8h",
        "colab_type": "code",
        "outputId": "724fa037-c46f-43d3-d65e-7a170af80b9e",
        "colab": {
          "base_uri": "https://localhost:8080/",
          "height": 34
        }
      },
      "source": [
        "!git push "
      ],
      "execution_count": 0,
      "outputs": [
        {
          "output_type": "stream",
          "text": [
            "fatal: not a git repository (or any of the parent directories): .git\n"
          ],
          "name": "stdout"
        }
      ]
    },
    {
      "cell_type": "code",
      "metadata": {
        "id": "ffTX6ThD4dsS",
        "colab_type": "code",
        "colab": {}
      },
      "source": [
        "for i in range(10, 3000):\n",
        "    from google.colab import files\n",
        "    i = str(i)\n",
        "    files.download('weights.'+i+'.h5')\n",
        "    print(i)"
      ],
      "execution_count": 0,
      "outputs": []
    },
    {
      "cell_type": "markdown",
      "metadata": {
        "id": "yQEuMoppuXzU",
        "colab_type": "text"
      },
      "source": [
        "###IMPORT LIBRARIES"
      ]
    },
    {
      "cell_type": "code",
      "metadata": {
        "id": "aKYWwiCHudJ6",
        "colab_type": "code",
        "outputId": "a9eb3d35-31b0-4991-ce01-0b03d7187968",
        "colab": {
          "base_uri": "https://localhost:8080/",
          "height": 34
        }
      },
      "source": [
        "\n",
        "# Import Keras and other Deep Learning dependencies\n",
        "from keras.models import Sequential\n",
        "import time\n",
        "from keras.optimizers import Adam\n",
        "from keras.layers import Conv2D, ZeroPadding2D, Activation, Input, concatenate\n",
        "from keras.models import Model\n",
        "import seaborn as sns\n",
        "from keras.layers.normalization import BatchNormalization\n",
        "from keras.layers.pooling import MaxPooling2D, AveragePooling2D\n",
        "from keras.layers.merge import Concatenate\n",
        "from keras.layers.core import Lambda, Flatten, Dense\n",
        "from keras.initializers import glorot_uniform\n",
        "from sklearn.preprocessing import LabelBinarizer\n",
        "from keras.optimizers import *\n",
        "from keras.engine.topology import Layer\n",
        "from keras import backend as K\n",
        "from keras.regularizers import l2\n",
        "K.set_image_data_format('channels_last')\n",
        "import cv2\n",
        "import os\n",
        "from skimage import io\n",
        "import numpy as np\n",
        "from numpy import genfromtxt\n",
        "import pandas as pd\n",
        "import tensorflow as tf\n",
        "import matplotlib.pyplot as plt\n",
        "\n",
        "import numpy.random as rng\n",
        "from sklearn.utils import shuffle\n",
        "\n",
        "\n",
        "%matplotlib inline\n",
        "%load_ext autoreload\n",
        "%reload_ext autoreload\n",
        "\n",
        "#np.set_printoptions(threshold=np.nan)\n",
        "\n",
        "from tqdm import tqdm\n",
        "from keras import regularizers\n",
        "\n",
        "import pickle\n",
        "\n",
        "from PIL import Image\n",
        "import imageio\n",
        "from scipy import misc\n",
        "import scipy\n",
        "from scipy.misc.pilutil import imread, imsave, imresize\n",
        "\n",
        "\n",
        "import skimage.io\n",
        "import sys\n",
        "import numpy as np\n",
        "import pandas as pd\n",
        "from scipy.misc import imread\n",
        "import pickle\n",
        "import os\n",
        "import matplotlib.pyplot as plt\n",
        "%matplotlib inline\n",
        "\n",
        "import cv2\n",
        "import time\n",
        "\n",
        "import tensorflow as tf\n",
        "from keras.models import Sequential\n",
        "from keras.optimizers import Adam\n",
        "from keras.layers import Conv2D, ZeroPadding2D, Activation, Input, concatenate\n",
        "from keras.models import Model\n",
        "\n",
        "from keras.layers.normalization import BatchNormalization\n",
        "from keras.layers.pooling import MaxPooling2D\n",
        "from keras.layers.merge import Concatenate\n",
        "from keras.layers.core import Lambda, Flatten, Dense\n",
        "from keras.initializers import glorot_uniform\n",
        "\n",
        "from keras.engine.topology import Layer\n",
        "from keras.regularizers import l2\n",
        "from keras import backend as K\n",
        "\n",
        "from sklearn.utils import shuffle\n",
        "\n",
        "import numpy.random as rng\n",
        "import glob\n",
        "\n",
        "from keras.layers import *"
      ],
      "execution_count": 0,
      "outputs": [
        {
          "output_type": "stream",
          "text": [
            "Using TensorFlow backend.\n"
          ],
          "name": "stderr"
        }
      ]
    },
    {
      "cell_type": "markdown",
      "metadata": {
        "id": "8daZx5LU5NZI",
        "colab_type": "text"
      },
      "source": [
        "##MODEL"
      ]
    },
    {
      "cell_type": "markdown",
      "metadata": {
        "id": "rMT1ul58Xt1N",
        "colab_type": "text"
      },
      "source": [
        "### FIRST"
      ]
    },
    {
      "cell_type": "code",
      "metadata": {
        "id": "3XClE_yvto0-",
        "colab_type": "code",
        "colab": {}
      },
      "source": [
        "def one_shot(i_shape):\n",
        "    left_image = Input(i_shape)\n",
        "    right_image = Input(i_shape)\n",
        "   \n",
        "    model = Sequential()\n",
        "    model.add(Conv2D(64, (10,10), activation='relu', input_shape=i_shape, kernel_initializer='random_uniform', kernel_regularizer = regularizers.l2(2e-4)))\n",
        "    model.add(MaxPooling2D())\n",
        "    model.add(Conv2D(128, (7,7), activation='relu',\n",
        "                     kernel_initializer='random_uniform',\n",
        "                     bias_initializer= 'zeros', kernel_regularizer= regularizers.l2(2e-4)))\n",
        "    model.add(MaxPooling2D())\n",
        "    model.add(Conv2D(128, (4,4), activation='relu', kernel_initializer='random_uniform',\n",
        "                     bias_initializer= 'zeros', kernel_regularizer= regularizers.l2(2e-4)))\n",
        "    model.add(MaxPooling2D())\n",
        "    model.add(Conv2D(256, (4,4), activation='relu', kernel_initializer='random_uniform',\n",
        "                     bias_initializer= 'zeros', kernel_regularizer= regularizers.l2(2e-4)))\n",
        "    model.add(Flatten())\n",
        "    model.add(Dense(4096, activation='sigmoid',\n",
        "                   kernel_regularizer= regularizers.l2(1e-3),\n",
        "                   kernel_initializer='random_uniform',bias_initializer= 'zeros'))\n",
        "    Left_tensor = model(left_image)\n",
        "    Right_tensor = model(right_image)\n",
        "    L1 = Lambda(lambda tensors:K.abs(tensors[0] - tensors[1]))\n",
        "    loss_fcn = L1([Left_tensor, Right_tensor])\n",
        "    predt = Dense(1,activation='sigmoid',bias_initializer= 'zeros')(loss_fcn)\n",
        "    similarity = Model(inputs=[left_image,right_image],outputs=predt)\n",
        "    return similarity"
      ],
      "execution_count": 0,
      "outputs": []
    },
    {
      "cell_type": "markdown",
      "metadata": {
        "id": "bWi_kwEgXvt3",
        "colab_type": "text"
      },
      "source": [
        "### SECOND"
      ]
    },
    {
      "cell_type": "code",
      "metadata": {
        "id": "R0hgR9yoX35C",
        "colab_type": "code",
        "colab": {}
      },
      "source": [
        "def get_siamese_model2(input_shape):\n",
        "    left_input = Input(input_shape)\n",
        "    right_input = Input(input_shape)\n",
        "    model1 = Sequential()\n",
        "    model1.add(Conv2D(64, (3,3), activation = 'relu',input_shape=input_shape, padding = 'same', kernel_initializer = 'he_normal'))\n",
        "    \n",
        "    model1.add(Dropout(0.05))\n",
        "    model1.add(MaxPooling2D(pool_size=(2, 2)))\n",
        "\n",
        "    model1.add(Conv2D(128, (3,3), activation = 'relu', padding = 'same', kernel_initializer = 'he_normal'))\n",
        "   \n",
        "    model1.add(Dropout(0.05))\n",
        "    model1.add(MaxPooling2D(pool_size=(2, 2)))\n",
        "\n",
        "    model1.add(Conv2D(256, (3,3), activation = 'relu', padding = 'same', kernel_initializer = 'he_normal'))\n",
        "   \n",
        "    model1.add(Dropout(0.05))\n",
        "    model1.add(MaxPooling2D(pool_size=(2, 2)))\n",
        "\n",
        "    model1.add(Conv2D(512, (3,3), activation = 'relu', padding = 'same', kernel_initializer = 'he_normal'))\n",
        "    \n",
        "    model1.add(Dropout(0.05))\n",
        "    model1.add(MaxPooling2D(pool_size=(2, 2)))\n",
        "\n",
        "    model1.add(Conv2D(1024, (3,3), activation = 'relu', padding = 'same', kernel_initializer = 'he_normal'))\n",
        "    \n",
        "    \n",
        "    encoded_l = model(left_input)\n",
        "    encoded_r = model(right_input)\n",
        "    L1_layer = Lambda(lambda tensors:K.abs(tensors[0] - tensors[1]))\n",
        "    L1_distance = L1_layer([encoded_l, encoded_r])\n",
        "    prediction = Dense(1,activation='sigmoid',bias_initializer= 'zeros')(L1_distance)\n",
        "    siamese_net2 = Model(inputs=[left_input,right_input],outputs=prediction)\n",
        "    return siamese_net2\n",
        "                                                                                                     "
      ],
      "execution_count": 0,
      "outputs": []
    },
    {
      "cell_type": "markdown",
      "metadata": {
        "colab_type": "text",
        "id": "sJS2SM-wRAgt"
      },
      "source": [
        "###PLOTTING ARCHITECHTURE"
      ]
    },
    {
      "cell_type": "code",
      "metadata": {
        "colab_type": "code",
        "id": "uo0Spet-RAgY",
        "colab": {}
      },
      "source": [
        "import pydot\n",
        "from keras.utils import plot_model\n",
        "from IPython.display import SVG\n",
        "import keras.utils.vis_utils \n",
        "from keras.utils.vis_utils import model_to_dot\n",
        "plot_model(model, to_file='model.png')\n",
        "SVG(model_to_dot(model).create(prog='dot', format='svg'))"
      ],
      "execution_count": 0,
      "outputs": []
    },
    {
      "cell_type": "code",
      "metadata": {
        "id": "FqSzNtRjizJJ",
        "colab_type": "code",
        "colab": {}
      },
      "source": [
        "from IPython.display import Image\n",
        "Image(retina=True, filename='model.png')"
      ],
      "execution_count": 0,
      "outputs": []
    },
    {
      "cell_type": "code",
      "metadata": {
        "id": "E8tnftGMfFa8",
        "colab_type": "code",
        "colab": {}
      },
      "source": [
        "plot_model(model, to_file='model_plot.png', show_shapes=True, show_layer_names=True)"
      ],
      "execution_count": 0,
      "outputs": []
    },
    {
      "cell_type": "markdown",
      "metadata": {
        "id": "6IhdToaVXeL8",
        "colab_type": "text"
      },
      "source": [
        "##SOME FUNCTIONS"
      ]
    },
    {
      "cell_type": "markdown",
      "metadata": {
        "id": "c9aRNwPY0YyT",
        "colab_type": "text"
      },
      "source": [
        "###MAKE SMALL BATCHES"
      ]
    },
    {
      "cell_type": "code",
      "metadata": {
        "id": "lZVjGAEf0XzI",
        "colab_type": "code",
        "colab": {}
      },
      "source": [
        "def gen_batches(x_dir: str, config: dict):\n",
        "    \"\"\"\n",
        "    Given the x folder and the y folder, generate a function for the batch tensor\n",
        "    :param x_dir: Moving Image folder absolute path\n",
        "    :param y_dir: Fixed Image folder absolute path\n",
        "    :param config: config[\"shuffle_batch\"]：Whether shuffle batch\n",
        "                    config[\"batch_size\"]：Batch size\n",
        "                    config[\"image_size\"]：Image height and width, tuple type\n",
        "                    \n",
        "    :return: Tensor('batch_x', dtype=float32, shape=[batch_size, img_height, img_width, 1])\n",
        "            Tensor('batch_y', dtype=float32, shape=[batch_size, img_height, img_width, 1])\n",
        "    \"\"\"\n",
        "    \n",
        "    x_arr = sorted(glob.glob(x_dir + '*.png'))\n",
        "    #y_arr = sorted(glob.glob(y_dir + '*.png'))\n",
        "\n",
        "    #assert len(x_arr) == len(y_arr)\n",
        "\n",
        "    # Build input queue & batch\n",
        "    input_queue = tf.train.slice_input_producer([x_arr], shuffle=config[\"shuffle_batch\"])\n",
        "    batch_x = tf.train.batch(input_queue, batch_size=config[\"batch_size\"])\n",
        "    print(batch_x)\n",
        "\n",
        "  \n",
        "    def _f(input_tensor, batch_size: int, img_height: int, img_width: int, channels: int):\n",
        "        _ = np.stack([normalize(cv2.resize(np.array(Image.open(img_name)), dsize=(128,128), interpolation=cv2.INTER_CUBIC)) for img_name in input_tensor], axis=0)\n",
        "        return _.astype(np.float32).reshape([batch_size, img_height, img_width, channels])\n",
        "\n",
        "    # Apply external python function to handle tensor\n",
        "    batch_x = tf.py_func(_f, [batch_x, config[\"batch_size\"], *config[\"image_size\"], 1], tf.float32)\n",
        "    #batch_y = tf.py_func(_f, [batch_y, config[\"batch_size\"], *config[\"image_size\"], 1], tf.float32)\n",
        "    \n",
        "    print('BATCH_X',batch_x)\n",
        "    return batch_x \n",
        "  #, batch_y"
      ],
      "execution_count": 0,
      "outputs": []
    },
    {
      "cell_type": "code",
      "metadata": {
        "id": "yWMXZsUP17Ho",
        "colab_type": "code",
        "colab": {}
      },
      "source": [
        "def config_folder_guard(config: dict):\n",
        "    if not os.path.exists(config[\"checkpoint_dir\"]):\n",
        "        os.makedirs(config[\"checkpoint_dir\"])\n",
        "    if not os.path.exists(config[\"temp_dir\"]):\n",
        "        os.makedirs(config[\"temp_dir\"])\n",
        "    if not os.path.exists(config[\"log_dir\"]):\n",
        "        os.makedirs(config[\"log_dir\"])\n",
        "    return config"
      ],
      "execution_count": 0,
      "outputs": []
    },
    {
      "cell_type": "code",
      "metadata": {
        "id": "EarTyAYh1ycv",
        "colab_type": "code",
        "colab": {}
      },
      "source": [
        "config = config_folder_guard({\n",
        "        # train_parameters\n",
        "        'image_size': [128, 128],\n",
        "        'batch_size': 10,\n",
        "        'learning_rate': 1e-4,\n",
        "        'epoch_num': 10,\n",
        "        'save_interval': 5,\n",
        "        'shuffle_batch': True,\n",
        "        # trainNet data folder\n",
        "        'checkpoint_dir': r'\\checkpoints',\n",
        "        'temp_dir': r'\\validate',\n",
        "        'log_dir': r'\\log'\n",
        "    })"
      ],
      "execution_count": 0,
      "outputs": []
    },
    {
      "cell_type": "code",
      "metadata": {
        "id": "wGA1RsV81xPw",
        "colab_type": "code",
        "colab": {}
      },
      "source": [
        "batch_x = gen_batches(train_x_dir,{\n",
        "        'batch_size': config['batch_size'],\n",
        "        'image_size': config['image_size'],\n",
        "        'shuffle_batch': config['shuffle_batch']})"
      ],
      "execution_count": 0,
      "outputs": []
    },
    {
      "cell_type": "markdown",
      "metadata": {
        "id": "ebzu2V9wcwfI",
        "colab_type": "text"
      },
      "source": [
        "###GET IMAGES FUNCTION"
      ]
    },
    {
      "cell_type": "code",
      "metadata": {
        "id": "8PchPr4ifXQ0",
        "colab_type": "code",
        "colab": {}
      },
      "source": [
        "def get_image(path, height=256, width=256, set_mode='L'):\n",
        "       \n",
        "    #image = imread(path, mode=set_mode)\n",
        "    \n",
        "    \n",
        "    image = scipy.misc.imread(path, mode=set_mode)\n",
        "    image = imresize(image, [height, width,3], interp='nearest')\n",
        "    d = image.shape\n",
        "    image = np.reshape(image, [d[0], d[1], 3])\n",
        "    print('Image shape:',image.shape)\n",
        "    \n",
        "    if height is not None and width is not None:\n",
        "      d = image.shape\n",
        "      image = np.reshape(image, [d[0], d[1], 3])\n",
        "      #image = imresize(image, [height, width], interp='nearest')\n",
        "    return image"
      ],
      "execution_count": 0,
      "outputs": []
    },
    {
      "cell_type": "markdown",
      "metadata": {
        "id": "42576BltYDWL",
        "colab_type": "text"
      },
      "source": [
        "###LOADING DATASET"
      ]
    },
    {
      "cell_type": "code",
      "metadata": {
        "id": "zCsDugH_gnTw",
        "colab_type": "code",
        "colab": {}
      },
      "source": [
        "train_folder = \"/content/images_background_iv_2/\"\n",
        "val_folder = '/content/images_evaluation_2/'\n",
        "save_path = '/content/'"
      ],
      "execution_count": 0,
      "outputs": []
    },
    {
      "cell_type": "code",
      "metadata": {
        "id": "E9yWLnCyYB8E",
        "colab_type": "code",
        "colab": {}
      },
      "source": [
        "def loadimgs(path,n = 0):\n",
        "    '''\n",
        "    path => Path of train directory or test directory\n",
        "    '''\n",
        "    X=[]\n",
        "    y = []\n",
        "    cat_dict = {}\n",
        "    lang_dict = {}\n",
        "    curr_y = n\n",
        "    image_list1 =[]\n",
        "    \n",
        "    #DIR = path + letter + '/'\n",
        "\n",
        "\n",
        "    \n",
        "    # we load every alphabet seperately so we can isolate them later\n",
        "    for alphabet in os.listdir(path):\n",
        "        print(\"loading alphabet: \" + alphabet)        \n",
        "        lang_dict[alphabet] = [curr_y,None]\n",
        "        alphabet_path = os.path.join(path,alphabet)\n",
        "        print('alphabet_path',alphabet_path)\n",
        "        \n",
        "        # every letter/category has it's own column in the array, so  load seperately\n",
        "        for letter in os.listdir(alphabet_path):\n",
        "            DIR = alphabet_path + '/' + letter + '/'\n",
        "            print('letter',letter)\n",
        "            cat_dict[curr_y] = (alphabet, letter)\n",
        "            category_images = []\n",
        "            letter_path = os.path.join(alphabet_path, letter)           \n",
        "            '''#\\\\\\\\\\\\\\\\\\\\\\\\\\\\\\\\\\\\\\\\\\\\\\\\\\\\\\\\\\\\\\\\\\\\\\\\\\\\\\\\\\\\\\\\\\\\\\\\\\\\\\\\\\\\\\\\\\\\\\\\\\\\\\\\\\\\\\\n",
        "            batch_x = gen_batches(DIR,{'batch_size': config['batch_size'],'image_size': config['image_size'], 'shuffle_batch': config['shuffle_batch']})\n",
        "            print('Start....')\n",
        "            #sess = tf.Session()\n",
        "            #_bx, = sess.run([batch_x])\n",
        "            #sess.run(tf.global_variables_initializer())\n",
        "            print('BATCH:',_bx.shape)'''\n",
        "            #\\\\\\\\\\\\\\\\\\\\\\\\\\\\\\\\\\\\\\\\\\\\\\\\\\\\\\\\\\\\\\\\\\\\\\\\\\\\\\\\\\\\\\\\\\\\\\\\\\\\\\\\\\\\\\\\\\\\\\\\\\\\\\\\\\\\\\'''\n",
        "      \n",
        "            #read all the images in the current category\n",
        "            for filename in tqdm((glob.glob(DIR + '*.bmp'))):\n",
        "            #for filename in tqdm((glob.glob(DIR + '*.png'))):\n",
        "            #for filename in os.listdir(letter_path):\n",
        "                src=cv2.imread(filename)\n",
        "                dst1 = cv2.cvtColor(src, cv2.COLOR_BGR2RGB)\n",
        "                #d = dst1.shape\n",
        "                #print(d)\n",
        "                patch = np.copy(dst1[10:10+128,10:10+128])\n",
        "                #patches = image.extract_patches_2d(one_image, (128, 128))\n",
        "                #patch = extractPatches(dst, '/content/')\n",
        "                #img = Resize(dst)            \n",
        "                \n",
        "                '''image_path = os.path.join(letter_path, filename)                \n",
        "                image = imread(image_path) '''  \n",
        "                #vis = get_image(filename, 256, 256,'L')\n",
        "                image_list1.append(patch)\n",
        "                dataset1 = np.array(image_list1)               \n",
        "                category_images.append(patch)\n",
        "                y.append(curr_y)\n",
        "            try:\n",
        "                X.append(np.stack(category_images))\n",
        "            # edge case  - last one\n",
        "            except ValueError as e:\n",
        "                print(e)\n",
        "                print(\"error - category_images:\", category_images)\n",
        "                \n",
        "            curr_y += 1\n",
        "            lang_dict[alphabet][1] = curr_y - 1           \n",
        "    \n",
        "        \n",
        "    y = np.vstack(y)\n",
        "    X = np.stack(X)\n",
        "    print(dataset1.shape)\n",
        "    print()\n",
        "    \n",
        "    return X,y,lang_dict"
      ],
      "execution_count": 0,
      "outputs": []
    },
    {
      "cell_type": "markdown",
      "metadata": {
        "id": "hqGqvOdHLRk6",
        "colab_type": "text"
      },
      "source": [
        "###IMAGE PATCH"
      ]
    },
    {
      "cell_type": "code",
      "metadata": {
        "id": "1qJ17iaoLMD6",
        "colab_type": "code",
        "colab": {}
      },
      "source": [
        "def loadImage(imgpath):\n",
        "    try:\n",
        "    \tim = misc.imread(imgpath)\n",
        "    \treturn im\n",
        "    except:\n",
        "    \tprint (\"Can't open image. Check image again: \" + imgpath)\n",
        "\n",
        "def extractPatches(im, outpath, window_shape=(128,128,3),stride=3):\n",
        "    nr, nc, ncolor = im.shape\n",
        "    patches = skimage.util.view_as_windows(im, window_shape, stride)\n",
        "    nR, nC, t, H, W, C = patches.shape\n",
        "    nWindow = nR * nC\n",
        "    patches =  np.reshape(patches, (nWindow, H, W, C))\n",
        "    patches = patches.astype(np.float16, copy=False)\n",
        "    #pathces = np.asarray(patches, dtype=np.float16)\n",
        "    return patches[0]\n"
      ],
      "execution_count": 0,
      "outputs": []
    },
    {
      "cell_type": "code",
      "metadata": {
        "id": "f8-cdLg7WuHt",
        "colab_type": "code",
        "outputId": "27d9578a-c84f-46b3-f7c3-a465de05b102",
        "colab": {
          "base_uri": "https://localhost:8080/",
          "height": 286
        }
      },
      "source": [
        "plt.imshow(Xval[1][0])"
      ],
      "execution_count": 0,
      "outputs": [
        {
          "output_type": "execute_result",
          "data": {
            "text/plain": [
              "<matplotlib.image.AxesImage at 0x7f9a7d8da390>"
            ]
          },
          "metadata": {
            "tags": []
          },
          "execution_count": 201
        },
        {
          "output_type": "display_data",
          "data": {
            "image/png": "[encoded data removed]",
            "text/plain": [
              "<Figure size 432x288 with 1 Axes>"
            ]
          },
          "metadata": {
            "tags": []
          }
        }
      ]
    },
    {
      "cell_type": "code",
      "metadata": {
        "id": "O1DeSvVbTerU",
        "colab_type": "code",
        "colab": {}
      },
      "source": [
        "src1=cv2.imread('/content/images_evaluation_data/Validate/character02/0001_rgb.png')\n",
        "dst1 = cv2.cvtColor(src1, cv2.COLOR_BGR2RGB)"
      ],
      "execution_count": 0,
      "outputs": []
    },
    {
      "cell_type": "code",
      "metadata": {
        "id": "jge_nooeTEAM",
        "colab_type": "code",
        "colab": {}
      },
      "source": [
        "\n",
        "IMG = extractPatches(dst1, '/content/')\n"
      ],
      "execution_count": 0,
      "outputs": []
    },
    {
      "cell_type": "code",
      "metadata": {
        "id": "XdBoqBBuT2c6",
        "colab_type": "code",
        "colab": {}
      },
      "source": [
        "out_image = IMG.astype(np.uint8)"
      ],
      "execution_count": 0,
      "outputs": []
    },
    {
      "cell_type": "code",
      "metadata": {
        "id": "kRTNkBEaTpJ9",
        "colab_type": "code",
        "colab": {}
      },
      "source": [
        "plt.imshow(out_image[200])"
      ],
      "execution_count": 0,
      "outputs": []
    },
    {
      "cell_type": "code",
      "metadata": {
        "id": "1q7M5VxIuKj4",
        "colab_type": "code",
        "outputId": "876bae90-1b1e-43c5-cca0-8cc48c43c682",
        "colab": {
          "base_uri": "https://localhost:8080/",
          "height": 34
        }
      },
      "source": [
        "Xval.shape"
      ],
      "execution_count": 0,
      "outputs": [
        {
          "output_type": "execute_result",
          "data": {
            "text/plain": [
              "(4, 4, 240, 240, 3)"
            ]
          },
          "metadata": {
            "tags": []
          },
          "execution_count": 148
        }
      ]
    },
    {
      "cell_type": "code",
      "metadata": {
        "id": "9G54f9GaYEGn",
        "colab_type": "code",
        "outputId": "c7fdfe16-fdcd-47b6-e91d-1635e685abde",
        "colab": {
          "base_uri": "https://localhost:8080/",
          "height": 34
        }
      },
      "source": [
        "yval.shape"
      ],
      "execution_count": 0,
      "outputs": [
        {
          "output_type": "execute_result",
          "data": {
            "text/plain": [
              "(16, 1)"
            ]
          },
          "metadata": {
            "tags": []
          },
          "execution_count": 12
        }
      ]
    },
    {
      "cell_type": "code",
      "metadata": {
        "id": "JY6IUwnGoeeN",
        "colab_type": "code",
        "colab": {}
      },
      "source": [
        "'''def get_image(path, height=256, width=256, set_mode='L'):\n",
        "    print(path)\n",
        "    image = imread(path, mode=set_mode)\n",
        "    if height is not None and width is not None:\n",
        "        image = imresize(image, [height, width], interp='nearest')\n",
        "    return image'''"
      ],
      "execution_count": 0,
      "outputs": []
    },
    {
      "cell_type": "markdown",
      "metadata": {
        "id": "N93tKtVFgeoS",
        "colab_type": "text"
      },
      "source": [
        "###LOAD IMAGES"
      ]
    },
    {
      "cell_type": "code",
      "metadata": {
        "id": "WGfcanBOiJ5y",
        "colab_type": "code",
        "outputId": "e79244dd-4922-4edb-9803-1392e5b4138b",
        "colab": {
          "base_uri": "https://localhost:8080/",
          "height": 697
        }
      },
      "source": [
        "Xval,yval,cval=loadimgs(val_folder)"
      ],
      "execution_count": 0,
      "outputs": [
        {
          "output_type": "stream",
          "text": [
            "100%|██████████| 2/2 [00:00<00:00, 46.98it/s]\n",
            "100%|██████████| 2/2 [00:00<00:00, 112.17it/s]\n",
            "100%|██████████| 2/2 [00:00<00:00, 123.90it/s]\n",
            "100%|██████████| 2/2 [00:00<00:00, 108.21it/s]\n",
            "100%|██████████| 2/2 [00:00<00:00, 161.91it/s]\n",
            "100%|██████████| 2/2 [00:00<00:00, 165.30it/s]\n",
            "100%|██████████| 2/2 [00:00<00:00, 117.22it/s]\n",
            "100%|██████████| 2/2 [00:00<00:00, 190.71it/s]\n",
            "  0%|          | 0/2 [00:00<?, ?it/s]"
          ],
          "name": "stderr"
        },
        {
          "output_type": "stream",
          "text": [
            "loading alphabet: Validate\n",
            "alphabet_path /content/images_evaluation_2/Validate\n",
            "letter New folder (4)\n",
            "letter character15 - Copy\n",
            "letter New folder (6)\n",
            "letter character20\n",
            "letter character19\n",
            "letter New folder (5)\n",
            "letter character15\n",
            "letter character17 - Copy\n",
            "letter character18\n"
          ],
          "name": "stdout"
        },
        {
          "output_type": "stream",
          "text": [
            "100%|██████████| 2/2 [00:00<00:00, 169.25it/s]\n",
            "100%|██████████| 2/2 [00:00<00:00, 154.61it/s]\n",
            "100%|██████████| 2/2 [00:00<00:00, 118.46it/s]\n",
            "100%|██████████| 2/2 [00:00<00:00, 170.41it/s]\n",
            "100%|██████████| 2/2 [00:00<00:00, 168.23it/s]\n",
            "100%|██████████| 2/2 [00:00<00:00, 156.61it/s]\n",
            "100%|██████████| 2/2 [00:00<00:00, 107.13it/s]\n",
            "100%|██████████| 2/2 [00:00<00:00, 176.98it/s]\n",
            "100%|██████████| 2/2 [00:00<00:00, 172.19it/s]\n",
            "100%|██████████| 2/2 [00:00<00:00, 130.51it/s]"
          ],
          "name": "stderr"
        },
        {
          "output_type": "stream",
          "text": [
            "letter character16 - Copy\n",
            "letter character20 - Copy\n",
            "letter character18 - Copy\n",
            "letter New folder (3)\n",
            "letter character17\n",
            "letter New folder\n",
            "letter New folder (2)\n",
            "letter character16\n",
            "letter character19 - Copy\n",
            "(36, 128, 128, 3)\n",
            "\n"
          ],
          "name": "stdout"
        },
        {
          "output_type": "stream",
          "text": [
            "\n"
          ],
          "name": "stderr"
        }
      ]
    },
    {
      "cell_type": "code",
      "metadata": {
        "id": "c9sE05flYIVS",
        "colab_type": "code",
        "outputId": "92f9d283-50cb-4cc8-a1ed-3475dbbc3e2e",
        "colab": {
          "base_uri": "https://localhost:8080/",
          "height": 1000
        }
      },
      "source": [
        "X,y,c = loadimgs(train_folder)"
      ],
      "execution_count": 0,
      "outputs": [
        {
          "output_type": "stream",
          "text": [
            "100%|██████████| 2/2 [00:00<00:00, 65.37it/s]\n",
            "100%|██████████| 2/2 [00:00<00:00, 208.92it/s]\n",
            "100%|██████████| 2/2 [00:00<00:00, 113.74it/s]\n",
            "100%|██████████| 2/2 [00:00<00:00, 430.49it/s]\n",
            "100%|██████████| 2/2 [00:00<00:00, 357.56it/s]\n",
            "100%|██████████| 2/2 [00:00<00:00, 355.22it/s]\n",
            "100%|██████████| 2/2 [00:00<00:00, 116.32it/s]\n",
            "100%|██████████| 2/2 [00:00<00:00, 142.91it/s]\n",
            "100%|██████████| 2/2 [00:00<00:00, 283.02it/s]\n",
            "100%|██████████| 2/2 [00:00<00:00, 125.22it/s]\n",
            "100%|██████████| 2/2 [00:00<00:00, 178.85it/s]\n",
            "  0%|          | 0/2 [00:00<?, ?it/s]"
          ],
          "name": "stderr"
        },
        {
          "output_type": "stream",
          "text": [
            "loading alphabet: IMAGES\n",
            "alphabet_path /content/images_background_iv_2/IMAGES\n",
            "letter character13 - Copy (2)\n",
            "letter character07\n",
            "letter character14 - Copy (2)\n",
            "letter character01 - Copy\n",
            "letter character11 - Copy\n",
            "letter character05\n",
            "letter character14 - Copy\n",
            "letter character02 - Copy (2)\n",
            "letter character07 - Copy\n",
            "letter character06 - Copy\n",
            "letter character03 - Copy (2)\n",
            "letter character02 - Copy\n"
          ],
          "name": "stdout"
        },
        {
          "output_type": "stream",
          "text": [
            "100%|██████████| 2/2 [00:00<00:00, 137.77it/s]\n",
            "100%|██████████| 2/2 [00:00<00:00, 182.21it/s]\n",
            "100%|██████████| 2/2 [00:00<00:00, 110.17it/s]\n",
            "100%|██████████| 2/2 [00:00<00:00, 118.24it/s]\n",
            "100%|██████████| 2/2 [00:00<00:00, 315.71it/s]\n",
            "100%|██████████| 2/2 [00:00<00:00, 103.01it/s]\n",
            "100%|██████████| 2/2 [00:00<00:00, 144.57it/s]\n",
            "100%|██████████| 2/2 [00:00<00:00, 167.46it/s]\n",
            "100%|██████████| 2/2 [00:00<00:00, 288.44it/s]\n",
            "100%|██████████| 2/2 [00:00<00:00, 153.88it/s]\n",
            "100%|██████████| 2/2 [00:00<00:00, 324.17it/s]\n",
            "100%|██████████| 2/2 [00:00<00:00, 288.14it/s]\n",
            "100%|██████████| 2/2 [00:00<00:00, 117.24it/s]\n",
            "  0%|          | 0/2 [00:00<?, ?it/s]"
          ],
          "name": "stderr"
        },
        {
          "output_type": "stream",
          "text": [
            "letter character03 - Copy\n",
            "letter character10 - Copy (2)\n",
            "letter character14\n",
            "letter character05 - Copy (2)\n",
            "letter character09 - Copy\n",
            "letter character07 - Copy (2)\n",
            "letter character12\n",
            "letter character01\n",
            "letter character04 - Copy (2)\n",
            "letter character11\n",
            "letter character11 - Copy (2)\n",
            "letter character06\n",
            "letter character02\n"
          ],
          "name": "stdout"
        },
        {
          "output_type": "stream",
          "text": [
            "100%|██████████| 2/2 [00:00<00:00, 132.69it/s]\n",
            "100%|██████████| 2/2 [00:00<00:00, 308.75it/s]\n",
            "100%|██████████| 2/2 [00:00<00:00, 148.97it/s]\n",
            "100%|██████████| 2/2 [00:00<00:00, 146.02it/s]\n",
            "100%|██████████| 2/2 [00:00<00:00, 123.36it/s]\n",
            "100%|██████████| 2/2 [00:00<00:00, 169.60it/s]\n",
            "100%|██████████| 2/2 [00:00<00:00, 110.17it/s]\n",
            "100%|██████████| 2/2 [00:00<00:00, 216.98it/s]\n",
            "100%|██████████| 2/2 [00:00<00:00, 304.25it/s]\n",
            "100%|██████████| 2/2 [00:00<00:00, 106.37it/s]\n",
            "100%|██████████| 2/2 [00:00<00:00, 150.69it/s]\n",
            "100%|██████████| 2/2 [00:00<00:00, 107.02it/s]\n",
            "100%|██████████| 2/2 [00:00<00:00, 285.25it/s]\n",
            "  0%|          | 0/2 [00:00<?, ?it/s]"
          ],
          "name": "stderr"
        },
        {
          "output_type": "stream",
          "text": [
            "letter character08 - Copy (2)\n",
            "letter character12 - Copy\n",
            "letter character13 - Copy\n",
            "letter character10\n",
            "letter character03\n",
            "letter character09 - Copy (2)\n",
            "letter character05 - Copy\n",
            "letter character08\n",
            "letter character09\n",
            "letter character13\n",
            "letter character10 - Copy\n",
            "letter character01 - Copy (2)\n",
            "letter character12 - Copy (2)\n"
          ],
          "name": "stdout"
        },
        {
          "output_type": "stream",
          "text": [
            "100%|██████████| 2/2 [00:00<00:00, 133.52it/s]\n",
            "100%|██████████| 2/2 [00:00<00:00, 109.94it/s]\n",
            "100%|██████████| 2/2 [00:00<00:00, 139.69it/s]\n",
            "100%|██████████| 2/2 [00:00<00:00, 135.62it/s]\n",
            "100%|██████████| 2/2 [00:00<00:00, 315.42it/s]"
          ],
          "name": "stderr"
        },
        {
          "output_type": "stream",
          "text": [
            "letter character06 - Copy (2)\n",
            "letter character04 - Copy\n",
            "letter character04\n",
            "letter character08 - Copy\n",
            "(84, 128, 128, 3)\n",
            "\n"
          ],
          "name": "stdout"
        },
        {
          "output_type": "stream",
          "text": [
            "\n"
          ],
          "name": "stderr"
        }
      ]
    },
    {
      "cell_type": "code",
      "metadata": {
        "id": "nnIB46hSzkgW",
        "colab_type": "code",
        "outputId": "fb984162-5d9d-4ccb-e840-38b11ec52ec7",
        "colab": {
          "base_uri": "https://localhost:8080/",
          "height": 34
        }
      },
      "source": [
        "X.shape"
      ],
      "execution_count": 0,
      "outputs": [
        {
          "output_type": "execute_result",
          "data": {
            "text/plain": [
              "(42, 2, 128, 128, 3)"
            ]
          },
          "metadata": {
            "tags": []
          },
          "execution_count": 320
        }
      ]
    },
    {
      "cell_type": "code",
      "metadata": {
        "id": "Rpc-LJeZdujI",
        "colab_type": "code",
        "outputId": "3cb510d4-4355-4cd3-b629-0244deb8399f",
        "colab": {
          "base_uri": "https://localhost:8080/",
          "height": 286
        }
      },
      "source": [
        "plt.imshow(Xval[1][0])"
      ],
      "execution_count": 0,
      "outputs": [
        {
          "output_type": "execute_result",
          "data": {
            "text/plain": [
              "<matplotlib.image.AxesImage at 0x7fdbe7dad048>"
            ]
          },
          "metadata": {
            "tags": []
          },
          "execution_count": 9
        },
        {
          "output_type": "display_data",
          "data": {
            "image/png": "[encoded data removed]",
            "text/plain": [
              "<Figure size 432x288 with 1 Axes>"
            ]
          },
          "metadata": {
            "tags": []
          }
        }
      ]
    },
    {
      "cell_type": "code",
      "metadata": {
        "id": "sfykOHenZQdJ",
        "colab_type": "code",
        "outputId": "f7466c3e-b799-408a-e215-4fe92c824e6f",
        "colab": {
          "base_uri": "https://localhost:8080/",
          "height": 34
        }
      },
      "source": [
        "print(y.shape)"
      ],
      "execution_count": 0,
      "outputs": [
        {
          "output_type": "stream",
          "text": [
            "(80, 1)\n"
          ],
          "name": "stdout"
        }
      ]
    },
    {
      "cell_type": "code",
      "metadata": {
        "id": "r8ons2DfYKyE",
        "colab_type": "code",
        "outputId": "28cadd16-99ec-4e4c-c1a3-1a9c9b796ccb",
        "colab": {
          "base_uri": "https://localhost:8080/",
          "height": 34
        }
      },
      "source": [
        "c.keys()"
      ],
      "execution_count": 0,
      "outputs": [
        {
          "output_type": "execute_result",
          "data": {
            "text/plain": [
              "dict_keys(['IMAGES'])"
            ]
          },
          "metadata": {
            "tags": []
          },
          "execution_count": 17
        }
      ]
    },
    {
      "cell_type": "markdown",
      "metadata": {
        "id": "FX3VhOgFiE13",
        "colab_type": "text"
      },
      "source": [
        "###Saving the train tensors on disk"
      ]
    },
    {
      "cell_type": "code",
      "metadata": {
        "id": "xvtTZ-fLhwKg",
        "colab_type": "code",
        "colab": {}
      },
      "source": [
        "with open(os.path.join(save_path,\"train.pickle\"), \"wb\") as f:\n",
        "    pickle.dump((X,c),f)"
      ],
      "execution_count": 0,
      "outputs": []
    },
    {
      "cell_type": "markdown",
      "metadata": {
        "id": "di8xnVI3iVOh",
        "colab_type": "text"
      },
      "source": [
        "###Loading the validation images into tensors"
      ]
    },
    {
      "cell_type": "markdown",
      "metadata": {
        "id": "4WQJVxhFieiE",
        "colab_type": "text"
      },
      "source": [
        "###Saving the validation tensors on disk"
      ]
    },
    {
      "cell_type": "code",
      "metadata": {
        "id": "rXmp25SfiZsR",
        "colab_type": "code",
        "colab": {}
      },
      "source": [
        "with open(os.path.join(save_path,\"val.pickle\"), \"wb\") as f:\n",
        "    pickle.dump((Xval,cval),f)"
      ],
      "execution_count": 0,
      "outputs": []
    },
    {
      "cell_type": "markdown",
      "metadata": {
        "id": "htEgD2a0ky8c",
        "colab_type": "text"
      },
      "source": [
        "###Loading the train tensors"
      ]
    },
    {
      "cell_type": "code",
      "metadata": {
        "id": "smvbQXDWihiB",
        "colab_type": "code",
        "colab": {}
      },
      "source": [
        "with open(os.path.join(save_path, \"train.pickle\"), \"rb\") as f:\n",
        "    (Xtrain, train_classes) = pickle.load(f)\n",
        " "
      ],
      "execution_count": 0,
      "outputs": []
    },
    {
      "cell_type": "code",
      "metadata": {
        "id": "eJieEJbVk34F",
        "colab_type": "code",
        "colab": {}
      },
      "source": [
        "with open(os.path.join(save_path, \"val.pickle\"), \"rb\") as f:\n",
        "    (Xval, val_classes) = pickle.load(f)"
      ],
      "execution_count": 0,
      "outputs": []
    },
    {
      "cell_type": "code",
      "metadata": {
        "id": "8FzpX9PalLhX",
        "colab_type": "code",
        "colab": {}
      },
      "source": [
        "def get_batch(batch_size,s=\"train\"):\n",
        "    \"\"\"Create batch of n pairs, half same class, half different class\"\"\"\n",
        "    if s == 'train':\n",
        "        X = Xtrain\n",
        "        categories = train_classes\n",
        "    else:\n",
        "        X = Xval\n",
        "        categories = val_classes\n",
        "    n_classes, n_examples, w, h, color = X.shape\n",
        "\n",
        "    # randomly sample several classes to use in the batch\n",
        "    categories = rng.choice(n_classes,size=(batch_size,),replace=False)\n",
        "    \n",
        "    # initialize 2 empty arrays for the input image batch\n",
        "    pairs=[np.zeros((batch_size, h, w,3)) for i in range(2)]\n",
        "    \n",
        "    # initialize vector for the targets\n",
        "    targets=np.zeros((batch_size,))\n",
        "    \n",
        "    # make one half of it '1's, so 2nd half of batch has same class\n",
        "    targets[batch_size//2:] = 1\n",
        "    for i in range(batch_size):\n",
        "        category = categories[i]\n",
        "        idx_1 = rng.randint(0, n_examples)\n",
        "        pairs[0][i,:,:,:] = X[category, idx_1].reshape(w, h, 3)\n",
        "        idx_2 = rng.randint(0, n_examples)\n",
        "        \n",
        "        # pick images of same class for 1st half, different for 2nd\n",
        "        if i >= batch_size // 2:\n",
        "            category_2 = category  \n",
        "        else: \n",
        "            # add a random number to the category modulo n classes to ensure 2nd image has a different category\n",
        "            category_2 = (category + rng.randint(1,n_classes)) % n_classes\n",
        "        \n",
        "        pairs[1][i,:,:,:] = X[category_2,idx_2].reshape(w, h, 3)\n",
        "    \n",
        "    return pairs, targets"
      ],
      "execution_count": 0,
      "outputs": []
    },
    {
      "cell_type": "code",
      "metadata": {
        "id": "WKzpnLY_lOO0",
        "colab_type": "code",
        "colab": {}
      },
      "source": [
        "def generate(batch_size, s=\"train\"):\n",
        "    \"\"\"a generator for batches, so model.fit_generator can be used. \"\"\"\n",
        "    while True:\n",
        "        pairs, targets = get_batch(batch_size,s)\n",
        "        yield (pairs, targets)"
      ],
      "execution_count": 0,
      "outputs": []
    },
    {
      "cell_type": "code",
      "metadata": {
        "id": "DwS29ZnRlQfE",
        "colab_type": "code",
        "colab": {}
      },
      "source": [
        "def make_oneshot_task(N, s=\"val\", language=None):\n",
        "    \"\"\"Create pairs of test image, support set for testing N way one-shot learning. \"\"\"\n",
        "    if s == 'train':\n",
        "        X = Xtrain\n",
        "        categories = train_classes\n",
        "    else:\n",
        "        X = Xval\n",
        "        categories = val_classes\n",
        "    n_classes, n_examples, w, h,color = X.shape\n",
        "    \n",
        "    indices = rng.randint(0, n_examples,size=(N,))\n",
        "    if language is not None: # if language is specified, select characters for that language\n",
        "        low, high = categories[language]\n",
        "        if N > high - low:\n",
        "            raise ValueError(\"This language ({}) has less than {} letters\".format(language, N))\n",
        "        categories = rng.choice(range(low,high),size=(N,),replace=False)\n",
        "\n",
        "    else: # if no language specified just pick a bunch of random letters\n",
        "        categories = rng.choice(range(n_classes),size=(N,),replace=False)            \n",
        "    true_category = categories[0]\n",
        "    ex1, ex2 = rng.choice(n_examples,replace=False,size=(2,))\n",
        "    test_image = np.asarray([X[true_category,ex1,:,:]]*N).reshape(N, w, h, 3)\n",
        "    support_set = X[categories,indices,:,:]\n",
        "    support_set[0,:,:] = X[true_category,ex2]\n",
        "    support_set = support_set.reshape(N, w, h, 3)\n",
        "    targets = np.zeros((N,))\n",
        "    targets[0] = 1\n",
        "    targets, test_image, support_set = shuffle(targets, test_image, support_set)\n",
        "    pairs = [test_image,support_set]\n",
        "\n",
        "    return pairs, targets"
      ],
      "execution_count": 0,
      "outputs": []
    },
    {
      "cell_type": "code",
      "metadata": {
        "id": "yjtppS-YlXVl",
        "colab_type": "code",
        "colab": {}
      },
      "source": [
        "def test_oneshot(model, N, k, s = \"val\", verbose = 0):\n",
        "    \"\"\"Test average N way oneshot learning accuracy of a siamese neural net over k one-shot tasks\"\"\"\n",
        "    n_correct = 0\n",
        "    if verbose:\n",
        "        print(\"Evaluating model on {} random {} way one-shot learning tasks ... \\n\".format(k,N))\n",
        "    for i in range(k):\n",
        "        inputs, targets = make_oneshot_task(N,s)\n",
        "        probs = model.predict(inputs)\n",
        "        if np.argmax(probs) == np.argmax(targets):\n",
        "            n_correct+=1\n",
        "    percent_correct = (100.0 * n_correct / k)\n",
        "    if verbose:\n",
        "        print(\"Got an average of {}% {} way one-shot learning accuracy \\n\".format(percent_correct,N))\n",
        "    return percent_correct"
      ],
      "execution_count": 0,
      "outputs": []
    },
    {
      "cell_type": "markdown",
      "metadata": {
        "id": "jisC0LtNpAHV",
        "colab_type": "text"
      },
      "source": [
        "###SET PARAMETERS"
      ]
    },
    {
      "cell_type": "code",
      "metadata": {
        "id": "rOGpODpelZCF",
        "colab_type": "code",
        "colab": {}
      },
      "source": [
        "# Hyper parameters\n",
        "evaluate_every = 1 # interval for evaluating on one-shot tasks\n",
        "batch_size = 1\n",
        "n_iter = 900 # No. of training Epochs\n",
        "N_way = 2 # how many classes for testing one-shot tasks\n",
        "n_val = 2 # how many one-shot tasks to validate on\n",
        "best = -1"
      ],
      "execution_count": 0,
      "outputs": []
    },
    {
      "cell_type": "code",
      "metadata": {
        "id": "wK_phmeClZLE",
        "colab_type": "code",
        "colab": {}
      },
      "source": [
        "model_path = '/content/'"
      ],
      "execution_count": 0,
      "outputs": []
    },
    {
      "cell_type": "code",
      "metadata": {
        "id": "NYYzhEkeQcqG",
        "colab_type": "code",
        "outputId": "be046d7a-5716-4f6f-a6f3-ad92eb105a8d",
        "colab": {
          "base_uri": "https://localhost:8080/",
          "height": 173
        }
      },
      "source": [
        "model = one_shot(( 128, 128 ,3))\n",
        "#model.summary()"
      ],
      "execution_count": 0,
      "outputs": [
        {
          "output_type": "stream",
          "text": [
            "WARNING:tensorflow:From /usr/local/lib/python3.6/dist-packages/keras/backend/tensorflow_backend.py:66: The name tf.get_default_graph is deprecated. Please use tf.compat.v1.get_default_graph instead.\n",
            "\n",
            "WARNING:tensorflow:From /usr/local/lib/python3.6/dist-packages/keras/backend/tensorflow_backend.py:541: The name tf.placeholder is deprecated. Please use tf.compat.v1.placeholder instead.\n",
            "\n",
            "WARNING:tensorflow:From /usr/local/lib/python3.6/dist-packages/keras/backend/tensorflow_backend.py:4432: The name tf.random_uniform is deprecated. Please use tf.random.uniform instead.\n",
            "\n",
            "WARNING:tensorflow:From /usr/local/lib/python3.6/dist-packages/keras/backend/tensorflow_backend.py:4267: The name tf.nn.max_pool is deprecated. Please use tf.nn.max_pool2d instead.\n",
            "\n"
          ],
          "name": "stdout"
        }
      ]
    },
    {
      "cell_type": "code",
      "metadata": {
        "id": "eVU0YoXtT8FH",
        "colab_type": "code",
        "outputId": "843a89fa-3ba1-44ef-ba88-658623a112f7",
        "colab": {
          "base_uri": "https://localhost:8080/",
          "height": 156
        }
      },
      "source": [
        "adam = Adam(lr = 0.00006)\n",
        "model.compile(loss=\"binary_crossentropy\",optimizer=adam)"
      ],
      "execution_count": 0,
      "outputs": [
        {
          "output_type": "stream",
          "text": [
            "WARNING:tensorflow:From /usr/local/lib/python3.6/dist-packages/keras/optimizers.py:793: The name tf.train.Optimizer is deprecated. Please use tf.compat.v1.train.Optimizer instead.\n",
            "\n",
            "WARNING:tensorflow:From /usr/local/lib/python3.6/dist-packages/keras/backend/tensorflow_backend.py:3657: The name tf.log is deprecated. Please use tf.math.log instead.\n",
            "\n",
            "WARNING:tensorflow:From /usr/local/lib/python3.6/dist-packages/tensorflow_core/python/ops/nn_impl.py:183: where (from tensorflow.python.ops.array_ops) is deprecated and will be removed in a future version.\n",
            "Instructions for updating:\n",
            "Use tf.where in 2.0, which has the same broadcast rule as np.where\n"
          ],
          "name": "stdout"
        }
      ]
    },
    {
      "cell_type": "code",
      "metadata": {
        "id": "m23lI3w-F8So",
        "colab_type": "code",
        "colab": {}
      },
      "source": [
        "sgd = SGD(lr=0.00000001, decay=1e-6, momentum=0.9, nesterov=True)\n",
        "model.compile(loss='mean_squared_error', optimizer=sgd)"
      ],
      "execution_count": 0,
      "outputs": []
    },
    {
      "cell_type": "code",
      "metadata": {
        "id": "1juEqKpzNflG",
        "colab_type": "code",
        "colab": {}
      },
      "source": [
        "optimizer = SGD(lr = 0.0006, decay=2e-6, momentum=0.009)\n",
        "model.compile(loss=\"binary_crossentropy\",optimizer=optimizer)"
      ],
      "execution_count": 0,
      "outputs": []
    },
    {
      "cell_type": "code",
      "metadata": {
        "id": "uiEGzt6olZN0",
        "colab_type": "code",
        "colab": {}
      },
      "source": [
        "print(\"Starting training process!\")\n",
        "print(\"-------------------------------------\")\n",
        "t_start = time.time()\n",
        "for i in range(1, n_iter+1):\n",
        "    (inputs,targets) = get_batch(batch_size)\n",
        "    loss = model.train_on_batch(inputs, targets)\n",
        "    if i % evaluate_every == 0:\n",
        "        print(\"\\n ------------- \\n\")\n",
        "        #print(\"Time for {0} iterations: {1} mins\".format(i, (time.time()-t_start)/60.0))\n",
        "        print(\"Train Loss: {0}\".format(loss)) \n",
        "        val_acc = test_oneshot(model, N_way, n_val, verbose=True)\n",
        "        model.save_weights(os.path.join(model_path, 'weights.{}.h5'.format(i)))\n",
        "        if val_acc >= best:\n",
        "            print(\"Current best: {0}, previous best: {1}\".format(val_acc, best))\n",
        "            best = val_acc"
      ],
      "execution_count": 0,
      "outputs": []
    },
    {
      "cell_type": "code",
      "metadata": {
        "id": "txoIe8xQNC_k",
        "colab_type": "code",
        "colab": {}
      },
      "source": [
        ""
      ],
      "execution_count": 0,
      "outputs": []
    },
    {
      "cell_type": "code",
      "metadata": {
        "id": "KZ4m0V3tFXAV",
        "colab_type": "code",
        "outputId": "b042fdb5-01d8-4b00-a685-23d998fd0d1d",
        "colab": {
          "base_uri": "https://localhost:8080/",
          "height": 34
        }
      },
      "source": [
        "Xval.shape"
      ],
      "execution_count": 0,
      "outputs": [
        {
          "output_type": "execute_result",
          "data": {
            "text/plain": [
              "(12, 2, 128, 128)"
            ]
          },
          "metadata": {
            "tags": []
          },
          "execution_count": 577
        }
      ]
    },
    {
      "cell_type": "code",
      "metadata": {
        "id": "ql0d84jRJpy2",
        "colab_type": "code",
        "colab": {}
      },
      "source": [
        ""
      ],
      "execution_count": 0,
      "outputs": []
    },
    {
      "cell_type": "code",
      "metadata": {
        "id": "5yo7i6n2Jpfr",
        "colab_type": "code",
        "outputId": "2c90d64a-ee91-4e4f-908e-4499ff5de0f1",
        "colab": {
          "base_uri": "https://localhost:8080/",
          "height": 765
        }
      },
      "source": [
        "XNIR,yNIR,cNIR = loadimgs('/content/nir/')"
      ],
      "execution_count": 0,
      "outputs": [
        {
          "output_type": "stream",
          "text": [
            "100%|██████████| 1/1 [00:00<00:00, 1235.80it/s]\n",
            "100%|██████████| 1/1 [00:00<00:00, 479.79it/s]\n",
            "100%|██████████| 1/1 [00:00<00:00, 343.37it/s]\n",
            "100%|██████████| 1/1 [00:00<00:00, 345.04it/s]\n",
            "100%|██████████| 1/1 [00:00<00:00, 323.58it/s]\n",
            "100%|██████████| 1/1 [00:00<00:00, 403.26it/s]\n",
            "100%|██████████| 1/1 [00:00<00:00, 251.99it/s]\n",
            "100%|██████████| 1/1 [00:00<00:00, 263.83it/s]\n",
            "100%|██████████| 1/1 [00:00<00:00, 840.37it/s]\n",
            "100%|██████████| 1/1 [00:00<00:00, 298.08it/s]\n",
            "100%|██████████| 1/1 [00:00<00:00, 297.19it/s]\n",
            "100%|██████████| 1/1 [00:00<00:00, 281.61it/s]\n",
            "100%|██████████| 1/1 [00:00<00:00, 239.74it/s]\n",
            "100%|██████████| 1/1 [00:00<00:00, 634.83it/s]\n",
            "100%|██████████| 1/1 [00:00<00:00, 949.15it/s]\n",
            "100%|██████████| 1/1 [00:00<00:00, 794.53it/s]\n",
            "100%|██████████| 1/1 [00:00<00:00, 1182.83it/s]\n",
            "100%|██████████| 1/1 [00:00<00:00, 538.56it/s]\n",
            "100%|██████████| 1/1 [00:00<00:00, 563.15it/s]\n",
            "100%|██████████| 1/1 [00:00<00:00, 515.40it/s]"
          ],
          "name": "stderr"
        },
        {
          "output_type": "stream",
          "text": [
            "loading alphabet: New folder\n",
            "alphabet_path /content/nir/New folder\n",
            "letter nir_4\n",
            "letter nir_14\n",
            "letter nir_15\n",
            "letter nir_16\n",
            "letter nir_17\n",
            "letter nir_11\n",
            "letter nir_8\n",
            "letter nir_20\n",
            "letter nir_3\n",
            "letter nir_6\n",
            "letter nir_10\n",
            "letter nir_18\n",
            "letter nir_9\n",
            "letter nir_13\n",
            "letter nir_2\n",
            "letter nir_5\n",
            "letter nir_1\n",
            "letter nir_12\n",
            "letter nir_7\n",
            "letter nir_19\n",
            "(20, 128, 128, 3)\n",
            "\n"
          ],
          "name": "stdout"
        },
        {
          "output_type": "stream",
          "text": [
            "\n"
          ],
          "name": "stderr"
        }
      ]
    },
    {
      "cell_type": "code",
      "metadata": {
        "id": "8tUdlYuqUUPm",
        "colab_type": "code",
        "outputId": "656fdbe9-3142-4607-a029-c9faf53d2410",
        "colab": {
          "base_uri": "https://localhost:8080/",
          "height": 34
        }
      },
      "source": [
        "Xval[3][0].shape"
      ],
      "execution_count": 0,
      "outputs": [
        {
          "output_type": "execute_result",
          "data": {
            "text/plain": [
              "(128, 128)"
            ]
          },
          "metadata": {
            "tags": []
          },
          "execution_count": 166
        }
      ]
    },
    {
      "cell_type": "code",
      "metadata": {
        "id": "-_QTVZMeJpEd",
        "colab_type": "code",
        "outputId": "4d01abf7-bf29-46af-e37a-d1ee2ad0af71",
        "colab": {
          "base_uri": "https://localhost:8080/",
          "height": 765
        }
      },
      "source": [
        "XVIS,yVIS,cVIS = loadimgs('/content/vis/')"
      ],
      "execution_count": 0,
      "outputs": [
        {
          "output_type": "stream",
          "text": [
            "100%|██████████| 1/1 [00:00<00:00, 214.47it/s]\n",
            "100%|██████████| 1/1 [00:00<00:00, 217.10it/s]\n",
            "100%|██████████| 1/1 [00:00<00:00, 507.42it/s]\n",
            "100%|██████████| 1/1 [00:00<00:00, 414.83it/s]\n",
            "100%|██████████| 1/1 [00:00<00:00, 505.03it/s]\n",
            "100%|██████████| 1/1 [00:00<00:00, 366.99it/s]\n",
            "100%|██████████| 1/1 [00:00<00:00, 579.08it/s]\n",
            "100%|██████████| 1/1 [00:00<00:00, 593.00it/s]\n",
            "100%|██████████| 1/1 [00:00<00:00, 701.74it/s]\n",
            "100%|██████████| 1/1 [00:00<00:00, 767.06it/s]\n",
            "100%|██████████| 1/1 [00:00<00:00, 316.53it/s]\n",
            "100%|██████████| 1/1 [00:00<00:00, 548.20it/s]\n",
            "100%|██████████| 1/1 [00:00<00:00, 500.39it/s]\n",
            "100%|██████████| 1/1 [00:00<00:00, 723.03it/s]\n",
            "100%|██████████| 1/1 [00:00<00:00, 606.73it/s]\n",
            "100%|██████████| 1/1 [00:00<00:00, 423.32it/s]\n",
            "100%|██████████| 1/1 [00:00<00:00, 535.26it/s]\n",
            "100%|██████████| 1/1 [00:00<00:00, 703.51it/s]\n",
            "100%|██████████| 1/1 [00:00<00:00, 595.53it/s]\n",
            "100%|██████████| 1/1 [00:00<00:00, 268.64it/s]"
          ],
          "name": "stderr"
        },
        {
          "output_type": "stream",
          "text": [
            "loading alphabet: New folder\n",
            "alphabet_path /content/vis/New folder\n",
            "letter vis_16\n",
            "letter vis_2\n",
            "letter vis_1\n",
            "letter vis_13\n",
            "letter vis_17\n",
            "letter vis_11\n",
            "letter vis_6\n",
            "letter vis_14\n",
            "letter vis_3\n",
            "letter vis_4\n",
            "letter vis_7\n",
            "letter vis_20\n",
            "letter vis_19\n",
            "letter vis_12\n",
            "letter vis_15\n",
            "letter vis_18\n",
            "letter vis_8\n",
            "letter vis_5\n",
            "letter vis_9\n",
            "letter vis_10\n",
            "(20, 128, 128, 3)\n",
            "\n"
          ],
          "name": "stdout"
        },
        {
          "output_type": "stream",
          "text": [
            "\n"
          ],
          "name": "stderr"
        }
      ]
    },
    {
      "cell_type": "code",
      "metadata": {
        "id": "nisWP2QRkJTa",
        "colab_type": "code",
        "outputId": "5de6a615-081a-4db7-faf3-562ab1e9ec88",
        "colab": {
          "base_uri": "https://localhost:8080/",
          "height": 203
        }
      },
      "source": [
        "plt.subplot(121),plt.imshow(XVIS[1][0])\n",
        "plt.title('Visible Image 0'), plt.xticks([]), plt.yticks([])\n",
        "plt.subplot(122),plt.imshow(XNIR[7][0])\n",
        "plt.title('Infrared Image 0'), plt.xticks([]), plt.yticks([])\n",
        "#plt.subplot(133),plt.imshow(XNIR[1][0])\n",
        "#plt.title('Infrared Image 1'), plt.xticks([]), plt.yticks([])\n",
        "\n",
        "plt.show() "
      ],
      "execution_count": 0,
      "outputs": [
        {
          "output_type": "display_data",
          "data": {
            "image/png": "[encoded data removed]",
            "text/plain": [
              "<Figure size 432x288 with 2 Axes>"
            ]
          },
          "metadata": {
            "tags": []
          }
        }
      ]
    },
    {
      "cell_type": "code",
      "metadata": {
        "id": "jzNJ0shdcez8",
        "colab_type": "code",
        "colab": {}
      },
      "source": [
        "for i in range(20):\n",
        "  MATCH = model.predict([XVIS[5].reshape(1,128,128,3), XNIR[i].reshape(1,128,128,3)])\n",
        "  #print(MATCH*100)\n",
        "  output = (100 - MATCH*100)\n",
        "  print(i)\n",
        "  print (output)\n",
        "    "
      ],
      "execution_count": 0,
      "outputs": []
    },
    {
      "cell_type": "code",
      "metadata": {
        "id": "2VV09PPGK-Lt",
        "colab_type": "code",
        "outputId": "357430ac-1530-46ec-e37b-2e44ec89d921",
        "colab": {
          "base_uri": "https://localhost:8080/",
          "height": 34
        }
      },
      "source": [
        "MATCH = model.predict([XVIS[1].reshape(1,128,128,1), XVIS[1].reshape(1,128,128,1)])\n",
        "#print(MATCH*100)\n",
        "output = 100 -MATCH*100\n",
        "print (output)"
      ],
      "execution_count": 0,
      "outputs": [
        {
          "output_type": "stream",
          "text": [
            "[[48.64824]]\n"
          ],
          "name": "stdout"
        }
      ]
    },
    {
      "cell_type": "code",
      "metadata": {
        "id": "vpqvxDsaFFua",
        "colab_type": "code",
        "outputId": "46161f8f-23ce-43a3-c993-7deaded9c1c5",
        "colab": {
          "base_uri": "https://localhost:8080/",
          "height": 286
        }
      },
      "source": [
        "plt.imshow(XVIS[0][0])"
      ],
      "execution_count": 0,
      "outputs": [
        {
          "output_type": "execute_result",
          "data": {
            "text/plain": [
              "<matplotlib.image.AxesImage at 0x7f3c479ed978>"
            ]
          },
          "metadata": {
            "tags": []
          },
          "execution_count": 118
        },
        {
          "output_type": "display_data",
          "data": {
            "image/png": "[encoded data removed]",
            "text/plain": [
              "<Figure size 432x288 with 1 Axes>"
            ]
          },
          "metadata": {
            "tags": []
          }
        }
      ]
    },
    {
      "cell_type": "code",
      "metadata": {
        "id": "uSY0f8dewgL3",
        "colab_type": "code",
        "outputId": "4a04b905-6cf6-4e68-912f-1d409a2c39fd",
        "colab": {
          "base_uri": "https://localhost:8080/",
          "height": 286
        }
      },
      "source": [
        "plt.imshow(XNIR[0][0])"
      ],
      "execution_count": 0,
      "outputs": [
        {
          "output_type": "execute_result",
          "data": {
            "text/plain": [
              "<matplotlib.image.AxesImage at 0x7f8979b1f898>"
            ]
          },
          "metadata": {
            "tags": []
          },
          "execution_count": 153
        },
        {
          "output_type": "display_data",
          "data": {
            "image/png": "[encoded data removed]",
            "text/plain": [
              "<Figure size 432x288 with 1 Axes>"
            ]
          },
          "metadata": {
            "tags": []
          }
        }
      ]
    },
    {
      "cell_type": "code",
      "metadata": {
        "id": "w4Ef82FzJpLY",
        "colab_type": "code",
        "outputId": "b21ea4bb-e29d-4bb9-c726-b05e7c42e042",
        "colab": {
          "base_uri": "https://localhost:8080/",
          "height": 34
        }
      },
      "source": [
        "XNIR.shape"
      ],
      "execution_count": 0,
      "outputs": [
        {
          "output_type": "execute_result",
          "data": {
            "text/plain": [
              "(3, 1, 128, 128)"
            ]
          },
          "metadata": {
            "tags": []
          },
          "execution_count": 292
        }
      ]
    },
    {
      "cell_type": "markdown",
      "metadata": {
        "id": "Noy49vk73jMa",
        "colab_type": "text"
      },
      "source": [
        "###PERFOMANCE:"
      ]
    },
    {
      "cell_type": "code",
      "metadata": {
        "id": "kYPFE16qlZQK",
        "colab_type": "code",
        "colab": {}
      },
      "source": [
        "output = 100 -probs*100\n",
        "#print (output)"
      ],
      "execution_count": 0,
      "outputs": []
    },
    {
      "cell_type": "code",
      "metadata": {
        "id": "dMlDtwVgGuAT",
        "colab_type": "code",
        "colab": {}
      },
      "source": [
        "Xtest,ytest,ctest = loadimgs('/content/vis/')"
      ],
      "execution_count": 0,
      "outputs": []
    },
    {
      "cell_type": "code",
      "metadata": {
        "id": "zDTicQgdGt5F",
        "colab_type": "code",
        "colab": {}
      },
      "source": [
        "plt.imshow(Xtest[0][0])"
      ],
      "execution_count": 0,
      "outputs": []
    },
    {
      "cell_type": "code",
      "metadata": {
        "id": "un8GcB4ZHgQy",
        "colab_type": "code",
        "colab": {}
      },
      "source": [
        "plt.imshow(Xtest[2][1])"
      ],
      "execution_count": 0,
      "outputs": []
    },
    {
      "cell_type": "code",
      "metadata": {
        "id": "w06U4TUnH5qY",
        "colab_type": "code",
        "colab": {}
      },
      "source": [
        "probs = model.predict([Xtest[0].reshape(2,128,128,1), Xtest[2].reshape(2,128,128,1)])\n",
        "print(probs*100)\n",
        "output = 100 -probs*100\n",
        "#print (output)"
      ],
      "execution_count": 0,
      "outputs": []
    },
    {
      "cell_type": "code",
      "metadata": {
        "id": "xBS5c_hhK9fK",
        "colab_type": "code",
        "colab": {}
      },
      "source": [
        "Xtest[0].shape"
      ],
      "execution_count": 0,
      "outputs": []
    },
    {
      "cell_type": "markdown",
      "metadata": {
        "id": "1GKyd-Nve1pv",
        "colab_type": "text"
      },
      "source": [
        "###We can plot the training and validation accuracy and loss at each epoch by using the history variable returned by the fit function"
      ]
    },
    {
      "cell_type": "code",
      "metadata": {
        "id": "ltASwcGxe3xG",
        "colab_type": "code",
        "colab": {}
      },
      "source": [
        "loss = sig_history.history['loss']\n",
        "val_loss = sig_history.history['val_loss']\n",
        "epochs = range(1, len(loss) + 1)\n",
        "plt.plot(epochs, loss, 'y', label='Training loss')\n",
        "plt.plot(epochs, val_loss, 'r', label='Validation loss')\n",
        "plt.title('Training and validation loss')\n",
        "plt.xlabel('Epochs')\n",
        "plt.ylabel('Loss')\n",
        "plt.legend()\n",
        "plt.show()"
      ],
      "execution_count": 0,
      "outputs": []
    },
    {
      "cell_type": "code",
      "metadata": {
        "id": "o3h9z2eie_Qg",
        "colab_type": "code",
        "colab": {}
      },
      "source": [
        "acc = sig_history.history['acc']\n",
        "val_acc = sig_history.history['val_acc']\n",
        "plt.plot(epochs, acc, 'y', label='Training acc')\n",
        "plt.plot(epochs, val_acc, 'r', label='Validation acc')\n",
        "plt.title('Training and validation accuracy')\n",
        "plt.xlabel('Epochs')\n",
        "plt.ylabel('Accuracy')\n",
        "plt.legend()\n",
        "plt.show()"
      ],
      "execution_count": 0,
      "outputs": []
    },
    {
      "cell_type": "code",
      "metadata": {
        "id": "RcmuXS23PiGW",
        "colab_type": "code",
        "colab": {}
      },
      "source": [
        "ways = np.arange(1, 30, 2)\n",
        "resume =  False\n",
        "val_accs, train_accs,nn_accs = [], [], []\n",
        "trials = 450\n",
        "for N in ways:\n",
        "    val_accs.append(loader.test_oneshot(model, N,trials, \"val\", verbose=True))\n",
        "    train_accs.append(loader.test_oneshot(model, N,trials, \"train\", verbose=True))\n",
        "    nn_accs.append(test_nn_accuracy(N,trials, loader))\n",
        "    \n",
        "#plot the accuracy vs num categories for each\n",
        "plt.plot(ways, val_accs, \"m\")\n",
        "plt.plot(ways, train_accs, \"y\")\n",
        "plt.plot(ways, nn_accs, \"c\")\n",
        "\n",
        "plt.plot(ways,100.0/ways,\"r\")\n",
        "plt.show()"
      ],
      "execution_count": 0,
      "outputs": []
    }
  ]
}